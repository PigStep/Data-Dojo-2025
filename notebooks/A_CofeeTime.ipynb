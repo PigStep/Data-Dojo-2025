{
 "cells": [
  {
   "cell_type": "markdown",
   "id": "8f10a904",
   "metadata": {},
   "source": [
    "# A. Cofee Time\n",
    "Каждое утро пользователи Карт выбирают подходящую для них кофейню по множеству критериев. Давайте рассмотрим только два фактора, влияющие на их выбор: расстояние до пользователя и рейтинг кофейни. Имеется несколько тысяч попарных оценок кофеен от реальных пользователей, в каждой из которых одна пара (расстояние, рейтинг) сравнивается с другой. Необходимо построить модель, монотонно зависящую от двух этих факторов, которая согласуется с наибольшей долей оценок."
   ]
  },
  {
   "cell_type": "markdown",
   "id": "cf101270",
   "metadata": {},
   "source": [
    "*`restaurants_train.txt` был переписан в эквивалентный `restaurants_train.csv`*"
   ]
  },
  {
   "cell_type": "markdown",
   "id": "97dcc1d8",
   "metadata": {},
   "source": [
    "<h2>Обучающий датасет restaurants_train.txt</h2>\n",
    "\n",
    "Каждая его строка содержит 5 чисел, разделённых табуляцией: winner, r1​, r2​, d1​, d2​. При этом winner равен 0, если победила первая кофейня, 1, если второй и 0.5, если случилась ничья. Пары $d_i r_i​$ соответствуют рейтингам и расстояниям для первой и второй кофейни. Рейтинги $r_i$ равны либо −1, что означает, что рейтинг отсутствует, либо принимают действительные значения от 0 до 10."
   ]
  },
  {
   "cell_type": "code",
   "execution_count": 46,
   "id": "fafed251",
   "metadata": {},
   "outputs": [],
   "source": [
    "import numpy as np\n",
    "import pandas as pd"
   ]
  },
  {
   "cell_type": "code",
   "execution_count": 47,
   "id": "2aa72c72",
   "metadata": {},
   "outputs": [],
   "source": [
    "restourants = pd.read_csv(\"../data/restaurants_train.csv\")"
   ]
  },
  {
   "cell_type": "code",
   "execution_count": 48,
   "id": "3f706f31",
   "metadata": {},
   "outputs": [
    {
     "data": {
      "text/html": [
       "<div>\n",
       "<style scoped>\n",
       "    .dataframe tbody tr th:only-of-type {\n",
       "        vertical-align: middle;\n",
       "    }\n",
       "\n",
       "    .dataframe tbody tr th {\n",
       "        vertical-align: top;\n",
       "    }\n",
       "\n",
       "    .dataframe thead th {\n",
       "        text-align: right;\n",
       "    }\n",
       "</style>\n",
       "<table border=\"1\" class=\"dataframe\">\n",
       "  <thead>\n",
       "    <tr style=\"text-align: right;\">\n",
       "      <th></th>\n",
       "      <th>winner</th>\n",
       "      <th>rating_1</th>\n",
       "      <th>rating_2</th>\n",
       "      <th>dist_1</th>\n",
       "      <th>dist_2</th>\n",
       "    </tr>\n",
       "  </thead>\n",
       "  <tbody>\n",
       "    <tr>\n",
       "      <th>0</th>\n",
       "      <td>0.5</td>\n",
       "      <td>8.154642</td>\n",
       "      <td>-1.000000</td>\n",
       "      <td>0.000552</td>\n",
       "      <td>0.000483</td>\n",
       "    </tr>\n",
       "    <tr>\n",
       "      <th>1</th>\n",
       "      <td>1.0</td>\n",
       "      <td>-1.000000</td>\n",
       "      <td>9.105132</td>\n",
       "      <td>0.075709</td>\n",
       "      <td>0.024765</td>\n",
       "    </tr>\n",
       "    <tr>\n",
       "      <th>2</th>\n",
       "      <td>0.0</td>\n",
       "      <td>7.349630</td>\n",
       "      <td>-1.000000</td>\n",
       "      <td>0.045557</td>\n",
       "      <td>0.006901</td>\n",
       "    </tr>\n",
       "    <tr>\n",
       "      <th>3</th>\n",
       "      <td>0.0</td>\n",
       "      <td>7.077312</td>\n",
       "      <td>-1.000000</td>\n",
       "      <td>0.000369</td>\n",
       "      <td>0.004083</td>\n",
       "    </tr>\n",
       "    <tr>\n",
       "      <th>4</th>\n",
       "      <td>1.0</td>\n",
       "      <td>-1.000000</td>\n",
       "      <td>-1.000000</td>\n",
       "      <td>0.002481</td>\n",
       "      <td>0.002171</td>\n",
       "    </tr>\n",
       "  </tbody>\n",
       "</table>\n",
       "</div>"
      ],
      "text/plain": [
       "   winner  rating_1  rating_2    dist_1    dist_2\n",
       "0     0.5  8.154642 -1.000000  0.000552  0.000483\n",
       "1     1.0 -1.000000  9.105132  0.075709  0.024765\n",
       "2     0.0  7.349630 -1.000000  0.045557  0.006901\n",
       "3     0.0  7.077312 -1.000000  0.000369  0.004083\n",
       "4     1.0 -1.000000 -1.000000  0.002481  0.002171"
      ]
     },
     "execution_count": 48,
     "metadata": {},
     "output_type": "execute_result"
    }
   ],
   "source": [
    "restourants.head()"
   ]
  },
  {
   "cell_type": "code",
   "execution_count": 49,
   "id": "2ef9ae7e",
   "metadata": {},
   "outputs": [
    {
     "name": "stdout",
     "output_type": "stream",
     "text": [
      "winner        0\n",
      "rating_1    408\n",
      "rating_2    438\n",
      "dist_1        0\n",
      "dist_2        0\n",
      "dtype: int64\n",
      "Количество пропусков в rating_1: 0.41%\n",
      "Количество пропусков в rating_2: 0.44%\n"
     ]
    }
   ],
   "source": [
    "# По условию отсутсвие рейтинга - -1 в данных\n",
    "print((restourants == -1).sum())\n",
    "\n",
    "print(f\"Количество пропусков в rating_1: {(restourants.rating_1 == -1).sum() / len(restourants.rating_2):.2f}%\")\n",
    "print(f\"Количество пропусков в rating_2: {(restourants.rating_2 == -1).sum() / len(restourants.rating_2):.2f}%\")"
   ]
  },
  {
   "cell_type": "code",
   "execution_count": 50,
   "id": "116f8bd7",
   "metadata": {},
   "outputs": [
    {
     "data": {
      "text/html": [
       "<div>\n",
       "<style scoped>\n",
       "    .dataframe tbody tr th:only-of-type {\n",
       "        vertical-align: middle;\n",
       "    }\n",
       "\n",
       "    .dataframe tbody tr th {\n",
       "        vertical-align: top;\n",
       "    }\n",
       "\n",
       "    .dataframe thead th {\n",
       "        text-align: right;\n",
       "    }\n",
       "</style>\n",
       "<table border=\"1\" class=\"dataframe\">\n",
       "  <thead>\n",
       "    <tr style=\"text-align: right;\">\n",
       "      <th></th>\n",
       "      <th>winner</th>\n",
       "      <th>rating_1</th>\n",
       "      <th>rating_2</th>\n",
       "      <th>dist_1</th>\n",
       "      <th>dist_2</th>\n",
       "    </tr>\n",
       "  </thead>\n",
       "  <tbody>\n",
       "    <tr>\n",
       "      <th>0</th>\n",
       "      <td>0.5</td>\n",
       "      <td>8.154642</td>\n",
       "      <td>NaN</td>\n",
       "      <td>0.000552</td>\n",
       "      <td>0.000483</td>\n",
       "    </tr>\n",
       "    <tr>\n",
       "      <th>1</th>\n",
       "      <td>1.0</td>\n",
       "      <td>NaN</td>\n",
       "      <td>9.105132</td>\n",
       "      <td>0.075709</td>\n",
       "      <td>0.024765</td>\n",
       "    </tr>\n",
       "    <tr>\n",
       "      <th>2</th>\n",
       "      <td>0.0</td>\n",
       "      <td>7.349630</td>\n",
       "      <td>NaN</td>\n",
       "      <td>0.045557</td>\n",
       "      <td>0.006901</td>\n",
       "    </tr>\n",
       "    <tr>\n",
       "      <th>3</th>\n",
       "      <td>0.0</td>\n",
       "      <td>7.077312</td>\n",
       "      <td>NaN</td>\n",
       "      <td>0.000369</td>\n",
       "      <td>0.004083</td>\n",
       "    </tr>\n",
       "    <tr>\n",
       "      <th>4</th>\n",
       "      <td>1.0</td>\n",
       "      <td>NaN</td>\n",
       "      <td>NaN</td>\n",
       "      <td>0.002481</td>\n",
       "      <td>0.002171</td>\n",
       "    </tr>\n",
       "  </tbody>\n",
       "</table>\n",
       "</div>"
      ],
      "text/plain": [
       "   winner  rating_1  rating_2    dist_1    dist_2\n",
       "0     0.5  8.154642       NaN  0.000552  0.000483\n",
       "1     1.0       NaN  9.105132  0.075709  0.024765\n",
       "2     0.0  7.349630       NaN  0.045557  0.006901\n",
       "3     0.0  7.077312       NaN  0.000369  0.004083\n",
       "4     1.0       NaN       NaN  0.002481  0.002171"
      ]
     },
     "execution_count": 50,
     "metadata": {},
     "output_type": "execute_result"
    }
   ],
   "source": [
    "restourants[restourants == -1] = pd.NA\n",
    "restourants.head()"
   ]
  },
  {
   "cell_type": "markdown",
   "id": "a942caec",
   "metadata": {},
   "source": [
    "# EDA"
   ]
  },
  {
   "cell_type": "code",
   "execution_count": 51,
   "id": "3fbdcd1f",
   "metadata": {},
   "outputs": [],
   "source": [
    "import matplotlib.pyplot as plt\n",
    "import seaborn as sns"
   ]
  },
  {
   "cell_type": "markdown",
   "id": "5c8b0f38",
   "metadata": {},
   "source": [
    "## Заполнение пропусков (прототип)"
   ]
  },
  {
   "cell_type": "code",
   "execution_count": null,
   "id": "609b7f6d",
   "metadata": {},
   "outputs": [
    {
     "data": {
      "text/html": [
       "<div>\n",
       "<style scoped>\n",
       "    .dataframe tbody tr th:only-of-type {\n",
       "        vertical-align: middle;\n",
       "    }\n",
       "\n",
       "    .dataframe tbody tr th {\n",
       "        vertical-align: top;\n",
       "    }\n",
       "\n",
       "    .dataframe thead th {\n",
       "        text-align: right;\n",
       "    }\n",
       "</style>\n",
       "<table border=\"1\" class=\"dataframe\">\n",
       "  <thead>\n",
       "    <tr style=\"text-align: right;\">\n",
       "      <th></th>\n",
       "      <th>avg_rate_diff</th>\n",
       "      <th>avg_dist_diff</th>\n",
       "    </tr>\n",
       "    <tr>\n",
       "      <th>winner</th>\n",
       "      <th></th>\n",
       "      <th></th>\n",
       "    </tr>\n",
       "  </thead>\n",
       "  <tbody>\n",
       "    <tr>\n",
       "      <th>0.0</th>\n",
       "      <td>0.559663</td>\n",
       "      <td>0.000213</td>\n",
       "    </tr>\n",
       "    <tr>\n",
       "      <th>0.5</th>\n",
       "      <td>0.031243</td>\n",
       "      <td>0.031944</td>\n",
       "    </tr>\n",
       "    <tr>\n",
       "      <th>1.0</th>\n",
       "      <td>-0.588126</td>\n",
       "      <td>-0.008256</td>\n",
       "    </tr>\n",
       "  </tbody>\n",
       "</table>\n",
       "</div>"
      ],
      "text/plain": [
       "        avg_rate_diff  avg_dist_diff\n",
       "winner                              \n",
       "0.0          0.559663       0.000213\n",
       "0.5          0.031243       0.031944\n",
       "1.0         -0.588126      -0.008256"
      ]
     },
     "execution_count": 60,
     "metadata": {},
     "output_type": "execute_result"
    }
   ],
   "source": [
    "# Отноистельно его найдем группы средних\n",
    "rest_no_na = restourants.dropna().copy()\n",
    "\n",
    "# Посчитаем разницы\n",
    "rest_no_na[\"rate_diff\"] = rest_no_na.rating_1 - rest_no_na.rating_2\n",
    "rest_no_na[\"dist_diff\"] = rest_no_na.dist_1 - rest_no_na.dist_2\n",
    "\n",
    "# Составим таблицу средних\n",
    "winner_avg_table = rest_no_na.groupby(\"winner\").agg({\n",
    "    \"rate_diff\":\"mean\",\n",
    "    \"dist_diff\":\"\"\n",
    "}).rename(columns={\"rate_diff\":\"avg_rate_diff\", \"dist_diff\":\"avg_dist_diff\"})\n",
    "\n",
    "winner_avg_table"
   ]
  },
  {
   "cell_type": "code",
   "execution_count": 63,
   "id": "bcb2e036",
   "metadata": {},
   "outputs": [
    {
     "data": {
      "text/plain": [
       "Text(0.5, 1.0, '95% интервалы разницы расстояний')"
      ]
     },
     "execution_count": 63,
     "metadata": {},
     "output_type": "execute_result"
    },
    {
     "data": {
      "image/png": "[encoded data removed]",
      "text/plain": [
       "<Figure size 640x480 with 1 Axes>"
      ]
     },
     "metadata": {},
     "output_type": "display_data"
    }
   ],
   "source": [
    "sns.pointplot(rest_no_na,x=\"winner\",y=\"dist_diff\")\n",
    "plt.title(\"95% интервалы разницы расстояний\")"
   ]
  },
  {
   "cell_type": "markdown",
   "id": "fbcd68d1",
   "metadata": {},
   "source": [
    "Из графика видно, что границы пересекаются, значит отрезаем по среднему `winner_0.5` для определения принадлежания к группе `winner_0` или `winner_1`"
   ]
  },
  {
   "cell_type": "code",
   "execution_count": 64,
   "id": "05316278",
   "metadata": {},
   "outputs": [],
   "source": [
    "def fillNA(row):\n",
    "    \"\"\"\n",
    "    Fill rating NA values by group means\n",
    "\n",
    "    Input:\n",
    "        `row` - row to fill\n",
    "    \n",
    "    Output:\n",
    "        rating NA filled dataframe\n",
    "    \"\"\"\n",
    "\n",
    "    # Из таблицы `winner_avg_table`\n",
    "    winner_0 = 0.559663\n",
    "    winner_5 = 0.031243\t\n",
    "    winner_1 = -0.588126\n",
    "\n",
    "\n",
    "    if (row.dist_1 - row.dist_2 <= winner_5): #Для winner 0-1\n",
    "        if(row.dist_1 - row.dist_2 >= winner_0): #Для winner 0\n",
    "            if(row.rating_1.isna()):\n",
    "                row.rating_1 += winner_0\n",
    "            else:\n",
    "                row.rating_2 -= winner_0  \n",
    "        else: # Для winner 1\n",
    "            if(row.rating_1.isna()):\n",
    "                row.rating_1 += winner_1\n",
    "            else:\n",
    "                row.rating_2 -= winner_1 \n",
    "\n",
    "    else: # Для winner 0.5\n",
    "        if(row.rating_1.isna()):\n",
    "            row.rating_1 += winner_5\n",
    "        else:\n",
    "            row.rating_2 -= winner_5       "
   ]
  },
  {
   "cell_type": "code",
   "execution_count": null,
   "id": "c20e359b",
   "metadata": {},
   "outputs": [],
   "source": []
  }
 ],
 "metadata": {
  "kernelspec": {
   "display_name": "Python 3",
   "language": "python",
   "name": "python3"
  },
  "language_info": {
   "codemirror_mode": {
    "name": "ipython",
    "version": 3
   },
   "file_extension": ".py",
   "mimetype": "text/x-python",
   "name": "python",
   "nbconvert_exporter": "python",
   "pygments_lexer": "ipython3",
   "version": "3.11.9"
  }
 },
 "nbformat": 4,
 "nbformat_minor": 5
}
